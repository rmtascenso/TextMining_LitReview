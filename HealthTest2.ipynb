{
 "cells": [
  {
   "cell_type": "markdown",
   "id": "79280513-0dcd-4403-85d9-08c2876c4c12",
   "metadata": {},
   "source": [
    "### Test to text mining for Master thesis_Health Literacy\n",
    "## Rita Ascenso"
   ]
  },
  {
   "cell_type": "markdown",
   "id": "228310b8-09f0-4d1e-b80e-394f086f6f61",
   "metadata": {},
   "source": [
    "# carregar bibliotecas"
   ]
  },
  {
   "cell_type": "code",
   "execution_count": 5,
   "id": "321cfe75-9646-48c4-a4c6-c08015e238a5",
   "metadata": {},
   "outputs": [
    {
     "name": "stdout",
     "output_type": "stream",
     "text": [
      "Requirement already satisfied: nltk in c:\\users\\ritaa\\appdata\\roaming\\python\\python39\\site-packages (3.7)\n",
      "Requirement already satisfied: tqdm in c:\\users\\ritaa\\anaconda3\\lib\\site-packages (from nltk) (4.62.3)\n",
      "Requirement already satisfied: joblib in c:\\users\\ritaa\\anaconda3\\lib\\site-packages (from nltk) (1.1.0)\n",
      "Requirement already satisfied: regex>=2021.8.3 in c:\\users\\ritaa\\anaconda3\\lib\\site-packages (from nltk) (2021.8.3)\n",
      "Requirement already satisfied: click in c:\\users\\ritaa\\anaconda3\\lib\\site-packages (from nltk) (8.0.3)\n",
      "Requirement already satisfied: colorama in c:\\users\\ritaa\\anaconda3\\lib\\site-packages (from click->nltk) (0.4.4)\n",
      "Requirement already satisfied: matplotlib in c:\\users\\ritaa\\anaconda3\\lib\\site-packages (3.4.3)\n",
      "Requirement already satisfied: kiwisolver>=1.0.1 in c:\\users\\ritaa\\anaconda3\\lib\\site-packages (from matplotlib) (1.3.1)\n",
      "Requirement already satisfied: pillow>=6.2.0 in c:\\users\\ritaa\\anaconda3\\lib\\site-packages (from matplotlib) (9.4.0)\n",
      "Requirement already satisfied: pyparsing>=2.2.1 in c:\\users\\ritaa\\anaconda3\\lib\\site-packages (from matplotlib) (3.0.4)\n",
      "Requirement already satisfied: cycler>=0.10 in c:\\users\\ritaa\\anaconda3\\lib\\site-packages (from matplotlib) (0.10.0)\n",
      "Requirement already satisfied: python-dateutil>=2.7 in c:\\users\\ritaa\\anaconda3\\lib\\site-packages (from matplotlib) (2.8.2)\n",
      "Requirement already satisfied: numpy>=1.16 in c:\\users\\ritaa\\anaconda3\\lib\\site-packages (from matplotlib) (1.20.3)\n",
      "Requirement already satisfied: six in c:\\users\\ritaa\\anaconda3\\lib\\site-packages (from cycler>=0.10->matplotlib) (1.16.0)\n",
      "Requirement already satisfied: pandas in c:\\users\\ritaa\\anaconda3\\lib\\site-packages (1.3.4)\n",
      "Requirement already satisfied: numpy>=1.17.3 in c:\\users\\ritaa\\anaconda3\\lib\\site-packages (from pandas) (1.20.3)\n",
      "Requirement already satisfied: python-dateutil>=2.7.3 in c:\\users\\ritaa\\anaconda3\\lib\\site-packages (from pandas) (2.8.2)\n",
      "Requirement already satisfied: pytz>=2017.3 in c:\\users\\ritaa\\anaconda3\\lib\\site-packages (from pandas) (2021.3)\n",
      "Requirement already satisfied: six>=1.5 in c:\\users\\ritaa\\anaconda3\\lib\\site-packages (from python-dateutil>=2.7.3->pandas) (1.16.0)\n",
      "Requirement already satisfied: sklearn in c:\\users\\ritaa\\anaconda3\\lib\\site-packages (0.0.post1)\n",
      "Requirement already satisfied: streamlit in c:\\users\\ritaa\\anaconda3\\lib\\site-packages (1.10.0)\n",
      "Requirement already satisfied: validators in c:\\users\\ritaa\\anaconda3\\lib\\site-packages (from streamlit) (0.20.0)\n",
      "Requirement already satisfied: semver in c:\\users\\ritaa\\anaconda3\\lib\\site-packages (from streamlit) (2.13.0)\n",
      "Requirement already satisfied: watchdog in c:\\users\\ritaa\\anaconda3\\lib\\site-packages (from streamlit) (2.1.3)\n",
      "Requirement already satisfied: pydeck>=0.1.dev5 in c:\\users\\ritaa\\anaconda3\\lib\\site-packages (from streamlit) (0.7.1)\n",
      "Requirement already satisfied: toml in c:\\users\\ritaa\\anaconda3\\lib\\site-packages (from streamlit) (0.10.2)\n",
      "Requirement already satisfied: pyarrow in c:\\users\\ritaa\\anaconda3\\lib\\site-packages (from streamlit) (8.0.0)\n",
      "Requirement already satisfied: altair>=3.2.0 in c:\\users\\ritaa\\anaconda3\\lib\\site-packages (from streamlit) (4.2.0)\n",
      "Requirement already satisfied: blinker in c:\\users\\ritaa\\anaconda3\\lib\\site-packages (from streamlit) (1.4)\n",
      "Requirement already satisfied: requests in c:\\users\\ritaa\\anaconda3\\lib\\site-packages (from streamlit) (2.26.0)\n",
      "Requirement already satisfied: pillow>=6.2.0 in c:\\users\\ritaa\\anaconda3\\lib\\site-packages (from streamlit) (9.4.0)\n",
      "Requirement already satisfied: pandas>=0.21.0 in c:\\users\\ritaa\\anaconda3\\lib\\site-packages (from streamlit) (1.3.4)\n",
      "Requirement already satisfied: numpy in c:\\users\\ritaa\\anaconda3\\lib\\site-packages (from streamlit) (1.20.3)\n",
      "Requirement already satisfied: attrs in c:\\users\\ritaa\\anaconda3\\lib\\site-packages (from streamlit) (21.2.0)\n",
      "Requirement already satisfied: pympler>=0.9 in c:\\users\\ritaa\\anaconda3\\lib\\site-packages (from streamlit) (1.0.1)\n",
      "Requirement already satisfied: tzlocal in c:\\users\\ritaa\\anaconda3\\lib\\site-packages (from streamlit) (4.2)\n",
      "Requirement already satisfied: importlib-metadata>=1.4 in c:\\users\\ritaa\\anaconda3\\lib\\site-packages (from streamlit) (4.8.1)\n",
      "Requirement already satisfied: gitpython!=3.1.19 in c:\\users\\ritaa\\anaconda3\\lib\\site-packages (from streamlit) (3.1.27)\n",
      "Requirement already satisfied: click>=7.0 in c:\\users\\ritaa\\anaconda3\\lib\\site-packages (from streamlit) (8.0.3)\n",
      "Requirement already satisfied: protobuf<4,>=3.12 in c:\\users\\ritaa\\anaconda3\\lib\\site-packages (from streamlit) (3.20.1)\n",
      "Requirement already satisfied: tornado>=5.0 in c:\\users\\ritaa\\anaconda3\\lib\\site-packages (from streamlit) (6.1)\n",
      "Requirement already satisfied: cachetools>=4.0 in c:\\users\\ritaa\\anaconda3\\lib\\site-packages (from streamlit) (5.2.0)\n",
      "Requirement already satisfied: python-dateutil in c:\\users\\ritaa\\anaconda3\\lib\\site-packages (from streamlit) (2.8.2)\n",
      "Requirement already satisfied: typing-extensions in c:\\users\\ritaa\\anaconda3\\lib\\site-packages (from streamlit) (4.4.0)\n",
      "Requirement already satisfied: packaging in c:\\users\\ritaa\\anaconda3\\lib\\site-packages (from streamlit) (21.0)\n",
      "Requirement already satisfied: rich in c:\\users\\ritaa\\anaconda3\\lib\\site-packages (from streamlit) (12.4.4)\n",
      "Requirement already satisfied: entrypoints in c:\\users\\ritaa\\anaconda3\\lib\\site-packages (from altair>=3.2.0->streamlit) (0.3)\n",
      "Requirement already satisfied: toolz in c:\\users\\ritaa\\anaconda3\\lib\\site-packages (from altair>=3.2.0->streamlit) (0.11.1)\n",
      "Requirement already satisfied: jinja2 in c:\\users\\ritaa\\anaconda3\\lib\\site-packages (from altair>=3.2.0->streamlit) (2.11.3)\n",
      "Requirement already satisfied: jsonschema>=3.0 in c:\\users\\ritaa\\anaconda3\\lib\\site-packages (from altair>=3.2.0->streamlit) (3.2.0)\n",
      "Requirement already satisfied: colorama in c:\\users\\ritaa\\anaconda3\\lib\\site-packages (from click>=7.0->streamlit) (0.4.4)\n",
      "Requirement already satisfied: gitdb<5,>=4.0.1 in c:\\users\\ritaa\\anaconda3\\lib\\site-packages (from gitpython!=3.1.19->streamlit) (4.0.9)\n",
      "Requirement already satisfied: smmap<6,>=3.0.1 in c:\\users\\ritaa\\anaconda3\\lib\\site-packages (from gitdb<5,>=4.0.1->gitpython!=3.1.19->streamlit) (5.0.0)\n",
      "Requirement already satisfied: zipp>=0.5 in c:\\users\\ritaa\\anaconda3\\lib\\site-packages (from importlib-metadata>=1.4->streamlit) (3.6.0)\n",
      "Requirement already satisfied: six>=1.11.0 in c:\\users\\ritaa\\anaconda3\\lib\\site-packages (from jsonschema>=3.0->altair>=3.2.0->streamlit) (1.16.0)\n",
      "Requirement already satisfied: setuptools in c:\\users\\ritaa\\anaconda3\\lib\\site-packages (from jsonschema>=3.0->altair>=3.2.0->streamlit) (58.0.4)\n",
      "Requirement already satisfied: pyrsistent>=0.14.0 in c:\\users\\ritaa\\anaconda3\\lib\\site-packages (from jsonschema>=3.0->altair>=3.2.0->streamlit) (0.18.0)\n",
      "Requirement already satisfied: pytz>=2017.3 in c:\\users\\ritaa\\anaconda3\\lib\\site-packages (from pandas>=0.21.0->streamlit) (2021.3)\n",
      "Requirement already satisfied: traitlets>=4.3.2 in c:\\users\\ritaa\\anaconda3\\lib\\site-packages (from pydeck>=0.1.dev5->streamlit) (5.1.0)\n",
      "Requirement already satisfied: ipywidgets>=7.0.0 in c:\\users\\ritaa\\anaconda3\\lib\\site-packages (from pydeck>=0.1.dev5->streamlit) (7.6.5)\n",
      "Requirement already satisfied: ipykernel>=5.1.2 in c:\\users\\ritaa\\anaconda3\\lib\\site-packages (from pydeck>=0.1.dev5->streamlit) (6.4.1)\n",
      "Requirement already satisfied: debugpy<2.0,>=1.0.0 in c:\\users\\ritaa\\anaconda3\\lib\\site-packages (from ipykernel>=5.1.2->pydeck>=0.1.dev5->streamlit) (1.4.1)\n",
      "Requirement already satisfied: jupyter-client<8.0 in c:\\users\\ritaa\\anaconda3\\lib\\site-packages (from ipykernel>=5.1.2->pydeck>=0.1.dev5->streamlit) (6.1.12)\n",
      "Requirement already satisfied: ipython-genutils in c:\\users\\ritaa\\anaconda3\\lib\\site-packages (from ipykernel>=5.1.2->pydeck>=0.1.dev5->streamlit) (0.2.0)\n",
      "Requirement already satisfied: matplotlib-inline<0.2.0,>=0.1.0 in c:\\users\\ritaa\\anaconda3\\lib\\site-packages (from ipykernel>=5.1.2->pydeck>=0.1.dev5->streamlit) (0.1.2)\n",
      "Requirement already satisfied: ipython<8.0,>=7.23.1 in c:\\users\\ritaa\\anaconda3\\lib\\site-packages (from ipykernel>=5.1.2->pydeck>=0.1.dev5->streamlit) (7.29.0)\n",
      "Requirement already satisfied: pickleshare in c:\\users\\ritaa\\anaconda3\\lib\\site-packages (from ipython<8.0,>=7.23.1->ipykernel>=5.1.2->pydeck>=0.1.dev5->streamlit) (0.7.5)\n",
      "Requirement already satisfied: prompt-toolkit!=3.0.0,!=3.0.1,<3.1.0,>=2.0.0 in c:\\users\\ritaa\\anaconda3\\lib\\site-packages (from ipython<8.0,>=7.23.1->ipykernel>=5.1.2->pydeck>=0.1.dev5->streamlit) (3.0.20)\n",
      "Requirement already satisfied: pygments in c:\\users\\ritaa\\anaconda3\\lib\\site-packages (from ipython<8.0,>=7.23.1->ipykernel>=5.1.2->pydeck>=0.1.dev5->streamlit) (2.10.0)\n",
      "Requirement already satisfied: backcall in c:\\users\\ritaa\\anaconda3\\lib\\site-packages (from ipython<8.0,>=7.23.1->ipykernel>=5.1.2->pydeck>=0.1.dev5->streamlit) (0.2.0)\n",
      "Requirement already satisfied: decorator in c:\\users\\ritaa\\anaconda3\\lib\\site-packages (from ipython<8.0,>=7.23.1->ipykernel>=5.1.2->pydeck>=0.1.dev5->streamlit) (5.1.0)\n",
      "Requirement already satisfied: jedi>=0.16 in c:\\users\\ritaa\\anaconda3\\lib\\site-packages (from ipython<8.0,>=7.23.1->ipykernel>=5.1.2->pydeck>=0.1.dev5->streamlit) (0.18.0)\n",
      "Requirement already satisfied: widgetsnbextension~=3.5.0 in c:\\users\\ritaa\\anaconda3\\lib\\site-packages (from ipywidgets>=7.0.0->pydeck>=0.1.dev5->streamlit) (3.5.1)\n",
      "Requirement already satisfied: jupyterlab-widgets>=1.0.0 in c:\\users\\ritaa\\anaconda3\\lib\\site-packages (from ipywidgets>=7.0.0->pydeck>=0.1.dev5->streamlit) (1.0.0)\n",
      "Requirement already satisfied: nbformat>=4.2.0 in c:\\users\\ritaa\\anaconda3\\lib\\site-packages (from ipywidgets>=7.0.0->pydeck>=0.1.dev5->streamlit) (5.1.3)\n",
      "Requirement already satisfied: parso<0.9.0,>=0.8.0 in c:\\users\\ritaa\\anaconda3\\lib\\site-packages (from jedi>=0.16->ipython<8.0,>=7.23.1->ipykernel>=5.1.2->pydeck>=0.1.dev5->streamlit) (0.8.2)\n",
      "Requirement already satisfied: MarkupSafe>=0.23 in c:\\users\\ritaa\\anaconda3\\lib\\site-packages (from jinja2->altair>=3.2.0->streamlit) (2.0.1)\n",
      "Requirement already satisfied: jupyter-core>=4.6.0 in c:\\users\\ritaa\\anaconda3\\lib\\site-packages (from jupyter-client<8.0->ipykernel>=5.1.2->pydeck>=0.1.dev5->streamlit) (4.8.1)\n",
      "Requirement already satisfied: pyzmq>=13 in c:\\users\\ritaa\\anaconda3\\lib\\site-packages (from jupyter-client<8.0->ipykernel>=5.1.2->pydeck>=0.1.dev5->streamlit) (22.2.1)\n",
      "Requirement already satisfied: pywin32>=1.0 in c:\\users\\ritaa\\anaconda3\\lib\\site-packages (from jupyter-core>=4.6.0->jupyter-client<8.0->ipykernel>=5.1.2->pydeck>=0.1.dev5->streamlit) (228)\n",
      "Requirement already satisfied: wcwidth in c:\\users\\ritaa\\anaconda3\\lib\\site-packages (from prompt-toolkit!=3.0.0,!=3.0.1,<3.1.0,>=2.0.0->ipython<8.0,>=7.23.1->ipykernel>=5.1.2->pydeck>=0.1.dev5->streamlit) (0.2.5)\n",
      "Requirement already satisfied: notebook>=4.4.1 in c:\\users\\ritaa\\anaconda3\\lib\\site-packages (from widgetsnbextension~=3.5.0->ipywidgets>=7.0.0->pydeck>=0.1.dev5->streamlit) (6.4.5)\n",
      "Requirement already satisfied: argon2-cffi in c:\\users\\ritaa\\anaconda3\\lib\\site-packages (from notebook>=4.4.1->widgetsnbextension~=3.5.0->ipywidgets>=7.0.0->pydeck>=0.1.dev5->streamlit) (20.1.0)\n",
      "Requirement already satisfied: terminado>=0.8.3 in c:\\users\\ritaa\\anaconda3\\lib\\site-packages (from notebook>=4.4.1->widgetsnbextension~=3.5.0->ipywidgets>=7.0.0->pydeck>=0.1.dev5->streamlit) (0.9.4)\n",
      "Requirement already satisfied: Send2Trash>=1.5.0 in c:\\users\\ritaa\\anaconda3\\lib\\site-packages (from notebook>=4.4.1->widgetsnbextension~=3.5.0->ipywidgets>=7.0.0->pydeck>=0.1.dev5->streamlit) (1.8.0)\n",
      "Requirement already satisfied: prometheus-client in c:\\users\\ritaa\\anaconda3\\lib\\site-packages (from notebook>=4.4.1->widgetsnbextension~=3.5.0->ipywidgets>=7.0.0->pydeck>=0.1.dev5->streamlit) (0.11.0)\n",
      "Requirement already satisfied: nbconvert in c:\\users\\ritaa\\anaconda3\\lib\\site-packages (from notebook>=4.4.1->widgetsnbextension~=3.5.0->ipywidgets>=7.0.0->pydeck>=0.1.dev5->streamlit) (6.1.0)\n",
      "Requirement already satisfied: pywinpty>=0.5 in c:\\users\\ritaa\\anaconda3\\lib\\site-packages (from terminado>=0.8.3->notebook>=4.4.1->widgetsnbextension~=3.5.0->ipywidgets>=7.0.0->pydeck>=0.1.dev5->streamlit) (0.5.7)\n",
      "Requirement already satisfied: cffi>=1.0.0 in c:\\users\\ritaa\\anaconda3\\lib\\site-packages (from argon2-cffi->notebook>=4.4.1->widgetsnbextension~=3.5.0->ipywidgets>=7.0.0->pydeck>=0.1.dev5->streamlit) (1.14.6)\n",
      "Requirement already satisfied: pycparser in c:\\users\\ritaa\\anaconda3\\lib\\site-packages (from cffi>=1.0.0->argon2-cffi->notebook>=4.4.1->widgetsnbextension~=3.5.0->ipywidgets>=7.0.0->pydeck>=0.1.dev5->streamlit) (2.20)\n",
      "Requirement already satisfied: mistune<2,>=0.8.1 in c:\\users\\ritaa\\anaconda3\\lib\\site-packages (from nbconvert->notebook>=4.4.1->widgetsnbextension~=3.5.0->ipywidgets>=7.0.0->pydeck>=0.1.dev5->streamlit) (0.8.4)\n",
      "Requirement already satisfied: jupyterlab-pygments in c:\\users\\ritaa\\anaconda3\\lib\\site-packages (from nbconvert->notebook>=4.4.1->widgetsnbextension~=3.5.0->ipywidgets>=7.0.0->pydeck>=0.1.dev5->streamlit) (0.1.2)\n",
      "Requirement already satisfied: pandocfilters>=1.4.1 in c:\\users\\ritaa\\anaconda3\\lib\\site-packages (from nbconvert->notebook>=4.4.1->widgetsnbextension~=3.5.0->ipywidgets>=7.0.0->pydeck>=0.1.dev5->streamlit) (1.4.3)\n",
      "Requirement already satisfied: bleach in c:\\users\\ritaa\\anaconda3\\lib\\site-packages (from nbconvert->notebook>=4.4.1->widgetsnbextension~=3.5.0->ipywidgets>=7.0.0->pydeck>=0.1.dev5->streamlit) (4.0.0)\n",
      "Requirement already satisfied: nbclient<0.6.0,>=0.5.0 in c:\\users\\ritaa\\anaconda3\\lib\\site-packages (from nbconvert->notebook>=4.4.1->widgetsnbextension~=3.5.0->ipywidgets>=7.0.0->pydeck>=0.1.dev5->streamlit) (0.5.3)\n",
      "Requirement already satisfied: defusedxml in c:\\users\\ritaa\\anaconda3\\lib\\site-packages (from nbconvert->notebook>=4.4.1->widgetsnbextension~=3.5.0->ipywidgets>=7.0.0->pydeck>=0.1.dev5->streamlit) (0.7.1)\n",
      "Requirement already satisfied: testpath in c:\\users\\ritaa\\anaconda3\\lib\\site-packages (from nbconvert->notebook>=4.4.1->widgetsnbextension~=3.5.0->ipywidgets>=7.0.0->pydeck>=0.1.dev5->streamlit) (0.5.0)\n",
      "Requirement already satisfied: nest-asyncio in c:\\users\\ritaa\\anaconda3\\lib\\site-packages (from nbclient<0.6.0,>=0.5.0->nbconvert->notebook>=4.4.1->widgetsnbextension~=3.5.0->ipywidgets>=7.0.0->pydeck>=0.1.dev5->streamlit) (1.5.1)\n",
      "Requirement already satisfied: async-generator in c:\\users\\ritaa\\anaconda3\\lib\\site-packages (from nbclient<0.6.0,>=0.5.0->nbconvert->notebook>=4.4.1->widgetsnbextension~=3.5.0->ipywidgets>=7.0.0->pydeck>=0.1.dev5->streamlit) (1.10)\n",
      "Requirement already satisfied: webencodings in c:\\users\\ritaa\\anaconda3\\lib\\site-packages (from bleach->nbconvert->notebook>=4.4.1->widgetsnbextension~=3.5.0->ipywidgets>=7.0.0->pydeck>=0.1.dev5->streamlit) (0.5.1)\n",
      "Requirement already satisfied: pyparsing>=2.0.2 in c:\\users\\ritaa\\anaconda3\\lib\\site-packages (from packaging->streamlit) (3.0.4)\n",
      "Requirement already satisfied: certifi>=2017.4.17 in c:\\users\\ritaa\\anaconda3\\lib\\site-packages (from requests->streamlit) (2022.9.24)\n",
      "Requirement already satisfied: urllib3<1.27,>=1.21.1 in c:\\users\\ritaa\\anaconda3\\lib\\site-packages (from requests->streamlit) (1.26.7)\n",
      "Requirement already satisfied: charset-normalizer~=2.0.0 in c:\\users\\ritaa\\anaconda3\\lib\\site-packages (from requests->streamlit) (2.0.4)\n",
      "Requirement already satisfied: idna<4,>=2.5 in c:\\users\\ritaa\\anaconda3\\lib\\site-packages (from requests->streamlit) (3.2)\n",
      "Requirement already satisfied: commonmark<0.10.0,>=0.9.0 in c:\\users\\ritaa\\anaconda3\\lib\\site-packages (from rich->streamlit) (0.9.1)\n",
      "Requirement already satisfied: tzdata in c:\\users\\ritaa\\anaconda3\\lib\\site-packages (from tzlocal->streamlit) (2022.1)\n",
      "Requirement already satisfied: pytz-deprecation-shim in c:\\users\\ritaa\\anaconda3\\lib\\site-packages (from tzlocal->streamlit) (0.1.0.post0)\n"
     ]
    }
   ],
   "source": [
    "!pip3 install nltk\n",
    "!pip3 install matplotlib\n",
    "!pip3 install pandas\n",
    "!pip3 install sklearn\n",
    "!pip3 install streamlit"
   ]
  },
  {
   "cell_type": "code",
   "execution_count": 11,
   "id": "eedcd0ff-d060-405b-b656-5e58ba40fc7d",
   "metadata": {},
   "outputs": [
    {
     "name": "stderr",
     "output_type": "stream",
     "text": [
      "[nltk_data] Downloading package stopwords to\n",
      "[nltk_data]     C:\\Users\\ritaa\\AppData\\Roaming\\nltk_data...\n",
      "[nltk_data]   Package stopwords is already up-to-date!\n",
      "[nltk_data] Downloading package punkt to\n",
      "[nltk_data]     C:\\Users\\ritaa\\AppData\\Roaming\\nltk_data...\n",
      "[nltk_data]   Package punkt is already up-to-date!\n"
     ]
    },
    {
     "data": {
      "text/plain": [
       "True"
      ]
     },
     "execution_count": 11,
     "metadata": {},
     "output_type": "execute_result"
    }
   ],
   "source": [
    "#Instalar streamlit\n",
    "import streamlit as st\n",
    "\n",
    "# Instalar NLTK\n",
    "import numpy as np\n",
    "import pandas as pd\n",
    "import matplotlib.pyplot as plt\n",
    "import re\n",
    "import pickle \n",
    "import nltk\n",
    "import time\n",
    "import os\n",
    "\n",
    "from nltk.corpus import stopwords\n",
    "from sklearn.datasets import load_files\n",
    "from nltk.probability import FreqDist\n",
    "from nltk.tokenize import word_tokenize\n",
    "\n",
    "from nltk.tokenize import RegexpTokenizer\n",
    "from nltk import pos_tag\n",
    "\n",
    "nltk.download(\"stopwords\")\n",
    "nltk.download(\"punkt\")\n",
    "\n",
    "#nltk.download()\n",
    "\n",
    "#nltk.download('stopwords')\n",
    "\n",
    "#nltk.download('punkt')"
   ]
  },
  {
   "cell_type": "code",
   "execution_count": 3,
   "id": "1028079c-3a39-42f0-a7f4-f870199fe926",
   "metadata": {},
   "outputs": [],
   "source": [
    "# Listar packages\n",
    "#!pip list"
   ]
  },
  {
   "cell_type": "code",
   "execution_count": 19,
   "id": "7e050a6a-7f3c-4d15-a361-846184192e9d",
   "metadata": {},
   "outputs": [
    {
     "name": "stderr",
     "output_type": "stream",
     "text": [
      "2023-04-12 23:39:57.644 \n",
      "  \u001b[33m\u001b[1mWarning:\u001b[0m to view this Streamlit app on a browser, run it with the following\n",
      "  command:\n",
      "\n",
      "    streamlit run C:\\Users\\ritaa\\anaconda3\\lib\\site-packages\\ipykernel_launcher.py [ARGUMENTS]\n"
     ]
    }
   ],
   "source": [
    "uploaded_file = st.file_uploader(\"Escolha um arquivo TXT\", type=\"txt\")\n",
    "\n",
    "if uploaded_file is not None:\n",
    "    file_content = uploaded_file.read()\n",
    "    file_content = file_content.decode('utf-8')\n",
    "    st.write(f\"Conteúdo do arquivo {uploaded_file.name}:\")\n",
    "    st.write(file_content)\n",
    "if uploaded_file is not None:\n",
    "    file_content = uploaded_file.read()\n",
    "    file_content = file_content.decode('utf-8')\n",
    "    st.write(f\"Conteúdo do arquivo {uploaded_file.name}:\")\n",
    "    st.write(file_content)\n",
    "\n",
    "    tokens = nltk.word_tokenize(file_content)\n",
    "    words = [word.lower() for word in tokens if word.isalpha()]\n",
    "    freq_dist = FreqDist(words)\n",
    "    \n",
    "    st.write(\"30 palavras mais frequentes:\")\n",
    "    for word, frequency in freq_dist.most_common(30):\n",
    "        st.write(f\"{word}: {frequency}\")"
   ]
  },
  {
   "cell_type": "markdown",
   "id": "49d195e5-b412-4b0b-add7-f5339371f280",
   "metadata": {},
   "source": [
    "MANUAL Carregar ficheiro um a um Health.txt"
   ]
  },
  {
   "cell_type": "code",
   "execution_count": 12,
   "id": "27510569-011b-4217-8a35-87f6b9a2797b",
   "metadata": {},
   "outputs": [],
   "source": [
    "#load/ import the dataset\n",
    "#Health_original = pd.read_table(\"C:\\\\Users\\\\ritaa\\\\OneDrive\\\\Documentos\\\\Mestrado_estudante2210795\\\\MCD_TextMining\\\\Anaconda files\\\\Health.txt\")\n",
    "#Health_original = pd.read_txt(\"Health.txt\")\n",
    "#Health_original = np.genfromtxt(\"Health.txt\",delimiter=None)\n",
    "#Health_original = load_files('Healths_sa/')\n",
    "\n",
    "#Health_original = pd.read_csv(\"Health.txt\", sep=\" \")  # display DataFrameprint(df)\n",
    "\n",
    "#file = open('Health.txt',mode='r', encoding = 'utf-8')\n",
    "file = open('1_Health.txt',mode='r', encoding = 'utf-8')\n",
    "#file = open('2_Health.txt',mode='r', encoding = 'utf-8')\n",
    "#file = open('3_Health.txt',mode='r', encoding = 'utf-8')\n",
    "#file = open('4_Health.txt',mode='r', encoding = 'utf-8')\n",
    "#file = open('5_Health.txt',mode='r', encoding = 'utf-8')\n",
    "#file = open('6_Health.txt',mode='r', encoding = 'utf-8')\n",
    "#file = open('7_Health.txt',mode='r', encoding = 'utf-8')\n",
    "#file = open('8_Health.txt',mode='r', encoding = 'utf-8')\n",
    "#file = open('9_Health.txt',mode='r', encoding = 'utf-8')\n",
    "#file = open('10_Health.txt',mode='r', encoding = 'utf-8')\n",
    "#file = open('11_Health.txt',mode='r', encoding = 'utf-8')\n",
    "#file = open('12_Health.txt',mode='r', encoding = 'utf-8')\n",
    "Health_original = file.read()\n",
    "file.close()\n",
    "#print(Health_original)\n"
   ]
  },
  {
   "cell_type": "code",
   "execution_count": 13,
   "id": "94278dce-b2d4-4e79-b1f7-07fe0870641d",
   "metadata": {},
   "outputs": [],
   "source": [
    "#remover referências [1digito ou mais] do corpus sample original - alterar para Healthcorpus\n",
    "Health = re.sub('\\(\\d+\\)','', Health_original)\n",
    "Health1 = re.sub('\\(\\d\\)','', Health)\n",
    "Health2 = re.sub(r'[^\\w\\s]','', Health1)\n",
    "Health3 = re.sub(r'^br$','', Health2)\n",
    "Health4 = re.sub(r'^br$', ' ', Health3)\n",
    "Health5 = re.sub(r'\\s+br\\s+',' ',Health4)\n",
    "Health6 = re.sub(r'\\s+[a-z]\\s+', ' ',Health5)\n",
    "Health7 = re.sub(r'^b\\s+', '', Health6)\n",
    "Health8 = text = re.sub(r'\\bthe\\b', '', Health7, flags=re.IGNORECASE)\n",
    "Health9 = re.sub(r'\\bdoi\\b', '', Health8, flags=re.IGNORECASE)\n",
    "Healthcorpus = re.sub(r'\\s+', ' ', Health9)\n",
    "#print (Healthcorpus)"
   ]
  },
  {
   "cell_type": "markdown",
   "id": "3906076f-d901-4236-8eb9-e20023a31ec6",
   "metadata": {},
   "source": [
    "Tratamento do corpus original"
   ]
  },
  {
   "cell_type": "code",
   "execution_count": 14,
   "id": "7f68bed8-5e5f-44de-ac67-4779f8877c60",
   "metadata": {},
   "outputs": [],
   "source": [
    "#listar todas as frases do corpus sample - alterar para Health\n",
    "Health_sentences = nltk.sent_tokenize(Healthcorpus)\n",
    "\n",
    "#print (\"SENTENCES\\n\")\n",
    "#print (Health_sentences)\n",
    "#print (\"\\n\")\n",
    "\n",
    "#for sentence in Health_sentences:\n",
    "#    print(sentence)"
   ]
  },
  {
   "cell_type": "code",
   "execution_count": 15,
   "id": "0046306e-da81-4bd1-bbb8-cf2613998f45",
   "metadata": {},
   "outputs": [],
   "source": [
    "#separação de palavras de sentences - alterar para sentences_Health\n",
    "tokenized_sentences = [nltk.word_tokenize(sentence) \n",
    "        for sentence in Health_sentences]\n",
    "#print ('tokenized_sentences\\n')\n",
    "#print (tokenized_sentences)  \n",
    "#print (\"\\n\")\n",
    "#for tokens_sentence in tokenized_sentences:\n",
    "#    print(tokens_sentence)"
   ]
  },
  {
   "cell_type": "code",
   "execution_count": 16,
   "id": "aa49bc69-e7d4-4516-b2b1-e7af5ea37a96",
   "metadata": {},
   "outputs": [
    {
     "name": "stdout",
     "output_type": "stream",
     "text": [
      "\n",
      " Tokens number: 2770943 \n",
      "\n"
     ]
    }
   ],
   "source": [
    "#from nltk.tokenize import RegexpTokenizer applied to sentences - alterar para sentences_Health\n",
    "\n",
    "tokenizer = RegexpTokenizer(\"[\\w']+\")\n",
    "tokenized_sentences = []\n",
    "for sentence in Health_sentences:\n",
    "    tokens = tokenizer.tokenize(sentence)\n",
    "    tokenized_sentences.append(tokens)\n",
    "    \n",
    "#print ('tokenized_sentences sem pontuação\\n')\n",
    "#print (tokenized_sentences)  \n",
    "#print (\"\\n\")\n",
    "for tokens_sentence in tokenized_sentences:\n",
    "    #print(tokens_sentence)\n",
    "    print (\"\\n Tokens number:\", len(tokens_sentence),\"\\n\")"
   ]
  },
  {
   "cell_type": "code",
   "execution_count": 17,
   "id": "43148aa8-548e-447a-ac40-5868c5c9cb74",
   "metadata": {},
   "outputs": [],
   "source": [
    "# stopwords list\n",
    "from nltk.corpus import stopwords\n",
    "\n",
    "en_stopwords = sorted(set(stopwords.words('english')))\n",
    "#print (en_stopwords)\n",
    "#print (\"\\n size_en:\", len(en_stopwords),\"\\n\")"
   ]
  },
  {
   "cell_type": "code",
   "execution_count": 18,
   "id": "04004d8c-7a90-4bfe-8086-05d10f2f8d5a",
   "metadata": {},
   "outputs": [
    {
     "name": "stdout",
     "output_type": "stream",
     "text": [
      "\n",
      "\n",
      "\n",
      " Tokens number without stopwords: 2138084 \n",
      "\n"
     ]
    }
   ],
   "source": [
    "# filtering stopwords from corpus tokenized_sentences - alterar para tokens_Health\n",
    "\n",
    "print(\"\\n\")\n",
    "health_filter = [w for w in tokens_sentence if not w in en_stopwords]\n",
    "#print (\"words REMOVED stopwords\")\n",
    "#print (health_filter)\n",
    "print (\"\\n Tokens number without stopwords:\", len(health_filter),\"\\n\")"
   ]
  },
  {
   "cell_type": "code",
   "execution_count": 11,
   "id": "362043f3-bc71-4151-96b9-c0de288eac0b",
   "metadata": {},
   "outputs": [
    {
     "name": "stdout",
     "output_type": "stream",
     "text": [
      "<FreqDist with 127841 samples and 2138084 outcomes>\n"
     ]
    }
   ],
   "source": [
    "#split\n",
    "#fd_words = nltk.FreqDist(word.lower() for word in words)\n",
    "fd_words = nltk.FreqDist(word.lower() \n",
    "                         for word in health_filter)\n",
    "print(fd_words)\n"
   ]
  },
  {
   "cell_type": "code",
   "execution_count": 12,
   "id": "11538ba9-d8b2-463d-af30-94a3e0b6f8ac",
   "metadata": {},
   "outputs": [],
   "source": [
    "fd_words = FreqDist(health_filter)"
   ]
  },
  {
   "cell_type": "code",
   "execution_count": 13,
   "id": "3de6a223-3e7c-416f-868c-031a4d7487ef",
   "metadata": {},
   "outputs": [
    {
     "data": {
      "image/png": "[encoded data removed]",
      "text/plain": [
       "<Figure size 432x288 with 1 Axes>"
      ]
     },
     "metadata": {
      "needs_background": "light"
     },
     "output_type": "display_data"
    }
   ],
   "source": [
    "# Frequency Distribution Plot\n",
    "\n",
    "#fd_words.plot(10,cumulative=False,title=\"Word Frequency Distribution\")\n",
    "#plt.show()"
   ]
  },
  {
   "cell_type": "code",
   "execution_count": 18,
   "id": "414c90a5-933c-4452-9ebf-d6898392b008",
   "metadata": {},
   "outputs": [
    {
     "data": {
      "image/png": "[encoded data removed]",
      "text/plain": [
       "<Figure size 1440x360 with 1 Axes>"
      ]
     },
     "metadata": {
      "needs_background": "light"
     },
     "output_type": "display_data"
    },
    {
     "data": {
      "image/png": "[encoded data removed]",
      "text/plain": [
       "<Figure size 432x288 with 1 Axes>"
      ]
     },
     "metadata": {
      "needs_background": "light"
     },
     "output_type": "display_data"
    }
   ],
   "source": [
    "#plt.figure(figsize=(10, 5))\n",
    "#fd_words.plot(10)\n",
    "\n",
    "# Create bar plot\n",
    "plt.figure(figsize=(20, 5))\n",
    "fd_words.plot(10, title=\"Word Frequency Distribution\")\n",
    "plt.xlabel(\"Words\")\n",
    "plt.ylabel(\"Frequency\")\n",
    "plt.bar(fd_words.keys(), fd_words.values())\n",
    "plt.xticks(rotation=90, fontsize=10)\n",
    "plt.xlim(-1, 15)\n",
    "plt.tight_layout()\n",
    "#plt.show()"
   ]
  },
  {
   "cell_type": "code",
   "execution_count": 15,
   "id": "d7093e88-6197-4cef-9c34-1d18be66dd46",
   "metadata": {},
   "outputs": [
    {
     "data": {
      "image/png": "[encoded data removed]",
      "text/plain": [
       "<Figure size 1080x432 with 1 Axes>"
      ]
     },
     "metadata": {
      "needs_background": "light"
     },
     "output_type": "display_data"
    }
   ],
   "source": [
    "# Sort the FreqDist in descending order and take the top 10 items\n",
    "top_words = fd_words.most_common(10)\n",
    "\n",
    "# Create bar plot\n",
    "plt.figure(figsize=(15, 6))\n",
    "plt.bar([word[0] for word in top_words], [word[1] for word in top_words])\n",
    "\n",
    "# Add data labels\n",
    "for i, v in enumerate([word[1] for word in top_words]):\n",
    "    plt.text(i, v+1, str(v), ha='center', fontweight='bold')\n",
    "\n",
    "# Customize plot\n",
    "plt.title(\"Word Frequency Distribution (Top 10)\")\n",
    "plt.xlabel(\"Words\")\n",
    "plt.ylabel(\"Frequency\")\n",
    "plt.xticks(rotation=90, fontsize=10)\n",
    "plt.tight_layout()\n",
    "plt.show()"
   ]
  },
  {
   "cell_type": "markdown",
   "id": "855a3134-40c0-4f1c-aea7-981ae3f3ed2f",
   "metadata": {},
   "source": [
    "## Counting\n",
    "\n",
    "The count of words\n",
    "The vocabulary (unique words)\n",
    "The lexical diversity (the ratio of word count to vocabulary)"
   ]
  },
  {
   "cell_type": "code",
   "execution_count": 16,
   "id": "2462fb23-7759-4a5e-8f15-2b44e46bc869",
   "metadata": {},
   "outputs": [
    {
     "name": "stdout",
     "output_type": "stream",
     "text": [
      "Corpus has 127841 types and 2138084 tokens for a lexical diversity of 16.725\n"
     ]
    }
   ],
   "source": [
    "#health = nltk.corpus.reuters # Corpus of news articles? como ter um corpus Health.txt\n",
    "counts  = nltk.FreqDist(word.lower() \n",
    "                         for word in health_filter)\n",
    "vocab   = len(counts.keys())\n",
    "words   = sum(counts.values())\n",
    "lexdiv  = float(words) / float(vocab)\n",
    "\n",
    "print (\"Corpus has %i types and %i tokens for a lexical diversity of %0.3f\" % (vocab, words, lexdiv))\n"
   ]
  },
  {
   "cell_type": "markdown",
   "id": "e48b138f-46ff-4c5b-a90a-d4da97daf3c5",
   "metadata": {},
   "source": [
    "## POS tagging\n",
    "Atribuição de uma categoria gramatical a cada palavra, usando para isso tags\n",
    "(ver lista das POS taggers definidas na package NLTK)\n",
    "NLTK usa um tuplo (token, tag)"
   ]
  },
  {
   "cell_type": "code",
   "execution_count": 17,
   "id": "a612b0cc-b5c9-4358-9e15-38d4574e45aa",
   "metadata": {},
   "outputs": [
    {
     "name": "stdout",
     "output_type": "stream",
     "text": [
      "\n",
      " health filter size_en: 2138084 \n",
      "\n",
      "\n",
      " pos_health size_en: 2138084 \n",
      "\n",
      "dict_items([('CD', 149814), ('NNP', 745816), ('NN', 460450), ('VBP', 43822), ('JJ', 217728), ('VBD', 74071), ('NNS', 198811), ('VBG', 53945), ('VBN', 34606), ('PRP', 5933), ('VBZ', 22703), ('IN', 26684), ('RB', 37346), ('VB', 15130), ('DT', 8951), ('FW', 6571), ('NNPS', 7473), ('JJR', 10124), ('MD', 6122), ('JJS', 2436), ('RBR', 2924), ('TO', 1940), ('CC', 1200), ('EX', 1289), ('PRP$', 952), ('$', 181), ('RP', 143), ('WP', 245), ('WRB', 313), ('POS', 96), ('WP$', 107), ('WDT', 20), ('RBS', 122), ('PDT', 12), ('UH', 4)]) \n",
      "\n",
      "dict_keys(['CD', 'NNP', 'NN', 'VBP', 'JJ', 'VBD', 'NNS', 'VBG', 'VBN', 'PRP', 'VBZ', 'IN', 'RB', 'VB', 'DT', 'FW', 'NNPS', 'JJR', 'MD', 'JJS', 'RBR', 'TO', 'CC', 'EX', 'PRP$', '$', 'RP', 'WP', 'WRB', 'POS', 'WP$', 'WDT', 'RBS', 'PDT', 'UH'])\n",
      "\n",
      " pos_health tags size_en: 35 \n",
      "\n"
     ]
    }
   ],
   "source": [
    "# Example de identificação das tipologias POS - para aplicar a health_words\n",
    "#tokenizer = RegexpTokenizer(\"[\\w']+\")\n",
    "#health_words = tokenizer.tokenize(health_filter)\n",
    "#print(health_words,\"\\n\")\n",
    "print (\"\\n health filter size_en:\", len(health_filter),\"\\n\")\n",
    "\n",
    "#print (\"\\n health words size_en:\", len(health_words),\"\\n\")\n",
    "\n",
    "pos_health = nltk.pos_tag(health_filter)\n",
    "#print(\"POS: \", pos_health,\"\\n\")\n",
    "print (\"\\n pos_health size_en:\", len(pos_health),\"\\n\")\n",
    "\n",
    "#FreqDist - ajuda na identificação de frequência\n",
    "#depois pode usar-se para definir métricas\n",
    "\n",
    "\n",
    "tag_fd = nltk.FreqDist(tag for (word,tag) in pos_health)\n",
    "print(tag_fd.items(),\"\\n\")\n",
    "print(tag_fd.keys())\n",
    "print (\"\\n pos_health tags size_en:\", len(tag_fd),\"\\n\")"
   ]
  },
  {
   "cell_type": "code",
   "execution_count": null,
   "id": "e34bcec3-abc8-49a7-9250-ad25be6a4370",
   "metadata": {},
   "outputs": [],
   "source": []
  }
 ],
 "metadata": {
  "kernelspec": {
   "display_name": "Python 3 (ipykernel)",
   "language": "python",
   "name": "python3"
  },
  "language_info": {
   "codemirror_mode": {
    "name": "ipython",
    "version": 3
   },
   "file_extension": ".py",
   "mimetype": "text/x-python",
   "name": "python",
   "nbconvert_exporter": "python",
   "pygments_lexer": "ipython3",
   "version": "3.9.7"
  }
 },
 "nbformat": 4,
 "nbformat_minor": 5
}
